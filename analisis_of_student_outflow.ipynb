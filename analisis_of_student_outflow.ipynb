{
 "cells": [
  {
   "cell_type": "code",
   "execution_count": 341,
   "id": "120ce187",
   "metadata": {},
   "outputs": [],
   "source": [
    "import pandas as pd\n",
    "import numpy as np"
   ]
  },
  {
   "cell_type": "code",
   "execution_count": 342,
   "id": "7091c42d",
   "metadata": {},
   "outputs": [],
   "source": [
    "from sklearn import tree\n",
    "from sklearn.model_selection import train_test_split\n",
    "from sklearn.model_selection import cross_val_score\n",
    "from sklearn.model_selection import GridSearchCV\n",
    "from sklearn.model_selection import RandomizedSearchCV\n",
    "from sklearn.model_selection import StratifiedKFold\n",
    "from sklearn.metrics import precision_score, recall_score\n",
    "from sklearn import metrics\n",
    "from sklearn.ensemble import RandomForestClassifier\n",
    "from sklearn.linear_model import LogisticRegressionCV\n",
    "from sklearn.preprocessing import PolynomialFeatures"
   ]
  },
  {
   "cell_type": "code",
   "execution_count": 343,
   "id": "a20c7d43",
   "metadata": {},
   "outputs": [],
   "source": [
    "import matplotlib.pyplot as plt\n",
    "import seaborn as sns "
   ]
  },
  {
   "cell_type": "code",
   "execution_count": 344,
   "id": "9858db7c",
   "metadata": {},
   "outputs": [],
   "source": [
    "import warnings\n",
    "%matplotlib inline\n",
    "warnings.filterwarnings('ignore')"
   ]
  },
  {
   "cell_type": "code",
   "execution_count": 345,
   "id": "85778cae",
   "metadata": {},
   "outputs": [],
   "source": [
    "from pathlib import Path"
   ]
  },
  {
   "cell_type": "code",
   "execution_count": null,
   "id": "d0e7003f",
   "metadata": {},
   "outputs": [],
   "source": []
  },
  {
   "cell_type": "code",
   "execution_count": 346,
   "id": "8611751b",
   "metadata": {},
   "outputs": [],
   "source": [
    "datasets = dict()\n",
    "responses = dict()\n",
    "\n",
    "def get_data(dict_X, dict_y):\n",
    "    \n",
    "    for i in range(1, 8):\n",
    "        filename_X: Path = Path(f'X_{i}days.csv')\n",
    "        filename_y: Path = Path(f'y_{i}days.csv')\n",
    "        path: Path = Path(\"prepared_data_on_student_outflows\")\n",
    "        dict_X[f'X{i}days'] = pd.read_csv(path / filename_X)\n",
    "        dict_y[f'y{i}days'] = pd.read_csv(path / filename_y)\n",
    "\n",
    "get_data(datasets, responses)"
   ]
  },
  {
   "cell_type": "code",
   "execution_count": 347,
   "id": "107cefe9",
   "metadata": {},
   "outputs": [],
   "source": [
    "# remove unnecessary columns from X and y\n",
    "def data_transformation_y(dict_y):\n",
    "    dict_y.drop(\"Unnamed: 0\", axis=1, inplace=True)\n",
    "    \n",
    "def data_transformation_X(dict_X):\n",
    "    dict_X.drop(\"user_id\", axis=1, inplace=True)"
   ]
  },
  {
   "cell_type": "code",
   "execution_count": 348,
   "id": "87574044",
   "metadata": {},
   "outputs": [],
   "source": [
    "for k, v in datasets.items():\n",
    "        data_transformation_X(v)\n",
    "        \n",
    "for k, v in responses.items():\n",
    "        data_transformation_y(v)"
   ]
  },
  {
   "cell_type": "code",
   "execution_count": 349,
   "id": "0d7c8709",
   "metadata": {},
   "outputs": [
    {
     "data": {
      "text/html": [
       "<div>\n",
       "<style scoped>\n",
       "    .dataframe tbody tr th:only-of-type {\n",
       "        vertical-align: middle;\n",
       "    }\n",
       "\n",
       "    .dataframe tbody tr th {\n",
       "        vertical-align: top;\n",
       "    }\n",
       "\n",
       "    .dataframe thead th {\n",
       "        text-align: right;\n",
       "    }\n",
       "</style>\n",
       "<table border=\"1\" class=\"dataframe\">\n",
       "  <thead>\n",
       "    <tr style=\"text-align: right;\">\n",
       "      <th></th>\n",
       "      <th>day</th>\n",
       "      <th>total_steps</th>\n",
       "      <th>correct</th>\n",
       "      <th>wrong</th>\n",
       "      <th>correct_response_rate</th>\n",
       "      <th>viewed</th>\n",
       "    </tr>\n",
       "  </thead>\n",
       "  <tbody>\n",
       "    <tr>\n",
       "      <th>0</th>\n",
       "      <td>1.0</td>\n",
       "      <td>2.0</td>\n",
       "      <td>2.0</td>\n",
       "      <td>0.0</td>\n",
       "      <td>1.00</td>\n",
       "      <td>9</td>\n",
       "    </tr>\n",
       "    <tr>\n",
       "      <th>1</th>\n",
       "      <td>1.0</td>\n",
       "      <td>4.0</td>\n",
       "      <td>4.0</td>\n",
       "      <td>4.0</td>\n",
       "      <td>0.50</td>\n",
       "      <td>20</td>\n",
       "    </tr>\n",
       "    <tr>\n",
       "      <th>2</th>\n",
       "      <td>1.0</td>\n",
       "      <td>11.0</td>\n",
       "      <td>9.0</td>\n",
       "      <td>21.0</td>\n",
       "      <td>0.30</td>\n",
       "      <td>154</td>\n",
       "    </tr>\n",
       "    <tr>\n",
       "      <th>3</th>\n",
       "      <td>1.0</td>\n",
       "      <td>1.0</td>\n",
       "      <td>0.0</td>\n",
       "      <td>1.0</td>\n",
       "      <td>0.00</td>\n",
       "      <td>9</td>\n",
       "    </tr>\n",
       "    <tr>\n",
       "      <th>4</th>\n",
       "      <td>3.0</td>\n",
       "      <td>23.0</td>\n",
       "      <td>23.0</td>\n",
       "      <td>27.0</td>\n",
       "      <td>0.46</td>\n",
       "      <td>132</td>\n",
       "    </tr>\n",
       "  </tbody>\n",
       "</table>\n",
       "</div>"
      ],
      "text/plain": [
       "   day  total_steps  correct  wrong  correct_response_rate  viewed\n",
       "0  1.0          2.0      2.0    0.0                   1.00       9\n",
       "1  1.0          4.0      4.0    4.0                   0.50      20\n",
       "2  1.0         11.0      9.0   21.0                   0.30     154\n",
       "3  1.0          1.0      0.0    1.0                   0.00       9\n",
       "4  3.0         23.0     23.0   27.0                   0.46     132"
      ]
     },
     "execution_count": 349,
     "metadata": {},
     "output_type": "execute_result"
    }
   ],
   "source": [
    "datasets[\"X3days\"].head()"
   ]
  },
  {
   "cell_type": "code",
   "execution_count": 350,
   "id": "e11f160e",
   "metadata": {},
   "outputs": [
    {
     "data": {
      "text/html": [
       "<div>\n",
       "<style scoped>\n",
       "    .dataframe tbody tr th:only-of-type {\n",
       "        vertical-align: middle;\n",
       "    }\n",
       "\n",
       "    .dataframe tbody tr th {\n",
       "        vertical-align: top;\n",
       "    }\n",
       "\n",
       "    .dataframe thead th {\n",
       "        text-align: right;\n",
       "    }\n",
       "</style>\n",
       "<table border=\"1\" class=\"dataframe\">\n",
       "  <thead>\n",
       "    <tr style=\"text-align: right;\">\n",
       "      <th></th>\n",
       "      <th>passed_course</th>\n",
       "    </tr>\n",
       "  </thead>\n",
       "  <tbody>\n",
       "    <tr>\n",
       "      <th>0</th>\n",
       "      <td>0</td>\n",
       "    </tr>\n",
       "    <tr>\n",
       "      <th>1</th>\n",
       "      <td>0</td>\n",
       "    </tr>\n",
       "    <tr>\n",
       "      <th>2</th>\n",
       "      <td>0</td>\n",
       "    </tr>\n",
       "    <tr>\n",
       "      <th>3</th>\n",
       "      <td>0</td>\n",
       "    </tr>\n",
       "    <tr>\n",
       "      <th>4</th>\n",
       "      <td>1</td>\n",
       "    </tr>\n",
       "  </tbody>\n",
       "</table>\n",
       "</div>"
      ],
      "text/plain": [
       "   passed_course\n",
       "0              0\n",
       "1              0\n",
       "2              0\n",
       "3              0\n",
       "4              1"
      ]
     },
     "execution_count": 350,
     "metadata": {},
     "output_type": "execute_result"
    }
   ],
   "source": [
    "responses[\"y3days\"].head()"
   ]
  },
  {
   "cell_type": "code",
   "execution_count": null,
   "id": "b8fe9f7b",
   "metadata": {},
   "outputs": [],
   "source": []
  },
  {
   "cell_type": "markdown",
   "id": "3ea32904",
   "metadata": {},
   "source": [
    "## LogisticRegression"
   ]
  },
  {
   "cell_type": "code",
   "execution_count": 351,
   "id": "b3727fb8",
   "metadata": {},
   "outputs": [],
   "source": [
    "# сreate a dataframe with the necessary metrics\n",
    "results_logreg = pd.DataFrame()"
   ]
  },
  {
   "cell_type": "code",
   "execution_count": 352,
   "id": "557b86d6",
   "metadata": {},
   "outputs": [],
   "source": [
    "results_logreg[\"names\"] = [f'X{i}days' for i in range(1, 8)]\n",
    "results_logreg[\"coef_C\"] = np.zeros(results_logreg.shape[0])\n",
    "results_logreg[\"precision\"] = np.zeros(results_logreg.shape[0])\n",
    "results_logreg[\"recall\"] = np.zeros(results_logreg.shape[0])\n",
    "results_logreg[\"accuracy_test_set\"] = np.zeros(results_logreg.shape[0])\n",
    "results_logreg[\"ROC_AUC\"] = np.zeros(results_logreg.shape[0])"
   ]
  },
  {
   "cell_type": "code",
   "execution_count": 353,
   "id": "7a2302c6",
   "metadata": {},
   "outputs": [],
   "source": [
    "count_logreg = 0"
   ]
  },
  {
   "cell_type": "code",
   "execution_count": 354,
   "id": "fd46fe87",
   "metadata": {},
   "outputs": [],
   "source": [
    "def logistic_regression(X, y):\n",
    "    \n",
    "    global count_logreg\n",
    "    \n",
    "    X_train, X_test, y_train, y_test = train_test_split(X, y, test_size=0.33, random_state=17)\n",
    "    \n",
    "    skf = StratifiedKFold(n_splits=5, shuffle=True, random_state=17)\n",
    "    \n",
    "    c_values = np.logspace(-2, 3, 500)\n",
    "    \n",
    "    logreg = LogisticRegressionCV(Cs=c_values, cv=skf, n_jobs=-1)\n",
    "    logreg.fit(X_train, y_train)\n",
    "    \n",
    "    best_coef_C = logreg.C_\n",
    "    results_logreg.loc[count_logreg,'coef_C'] = best_coef_C\n",
    "    \n",
    "    y_pred_log = logreg.predict(X_test)\n",
    "    \n",
    "    precision = precision_score(y_test, y_pred_log)\n",
    "    results_logreg.loc[count_logreg,'precision'] = precision\n",
    "    \n",
    "    recall = recall_score(y_test, y_pred_log)\n",
    "    results_logreg.loc[count_logreg,'recall'] = recall\n",
    "    \n",
    "    results_logreg.loc[count_logreg,'accuracy_test_set'] = logreg.score(X_test, y_test)\n",
    "    \n",
    "    ROC_AUC = metrics.roc_auc_score(y_test, logreg.predict_proba(X_test)[:, 1])\n",
    "    results_logreg.loc[count_logreg,'ROC_AUC'] = ROC_AUC\n",
    "    \n",
    "    count_logreg += 1\n",
    "    "
   ]
  },
  {
   "cell_type": "code",
   "execution_count": 355,
   "id": "6c0be7a7",
   "metadata": {},
   "outputs": [
    {
     "name": "stdout",
     "output_type": "stream",
     "text": [
      "CPU times: total: 8.91 s\n",
      "Wall time: 16.7 s\n"
     ]
    }
   ],
   "source": [
    "%%time\n",
    "for i in range(1, 8):\n",
    "    logistic_regression(datasets[f'X{i}days'], responses[f'y{i}days'])"
   ]
  },
  {
   "cell_type": "markdown",
   "id": "63cc752f",
   "metadata": {},
   "source": [
    "### results of predicting user churn after the first 1 to 7 days on the course using logistic regression"
   ]
  },
  {
   "cell_type": "code",
   "execution_count": 356,
   "id": "e9006722",
   "metadata": {},
   "outputs": [
    {
     "data": {
      "text/html": [
       "<div>\n",
       "<style scoped>\n",
       "    .dataframe tbody tr th:only-of-type {\n",
       "        vertical-align: middle;\n",
       "    }\n",
       "\n",
       "    .dataframe tbody tr th {\n",
       "        vertical-align: top;\n",
       "    }\n",
       "\n",
       "    .dataframe thead th {\n",
       "        text-align: right;\n",
       "    }\n",
       "</style>\n",
       "<table border=\"1\" class=\"dataframe\">\n",
       "  <thead>\n",
       "    <tr style=\"text-align: right;\">\n",
       "      <th></th>\n",
       "      <th>names</th>\n",
       "      <th>coef_C</th>\n",
       "      <th>precision</th>\n",
       "      <th>recall</th>\n",
       "      <th>accuracy_test_set</th>\n",
       "      <th>ROC_AUC</th>\n",
       "    </tr>\n",
       "  </thead>\n",
       "  <tbody>\n",
       "    <tr>\n",
       "      <th>0</th>\n",
       "      <td>X1days</td>\n",
       "      <td>0.051454</td>\n",
       "      <td>0.547170</td>\n",
       "      <td>0.056530</td>\n",
       "      <td>0.914478</td>\n",
       "      <td>0.814089</td>\n",
       "    </tr>\n",
       "    <tr>\n",
       "      <th>1</th>\n",
       "      <td>X2days</td>\n",
       "      <td>0.010000</td>\n",
       "      <td>0.495935</td>\n",
       "      <td>0.124236</td>\n",
       "      <td>0.917172</td>\n",
       "      <td>0.826936</td>\n",
       "    </tr>\n",
       "    <tr>\n",
       "      <th>2</th>\n",
       "      <td>X3days</td>\n",
       "      <td>0.155734</td>\n",
       "      <td>0.496689</td>\n",
       "      <td>0.163399</td>\n",
       "      <td>0.922559</td>\n",
       "      <td>0.845188</td>\n",
       "    </tr>\n",
       "    <tr>\n",
       "      <th>3</th>\n",
       "      <td>X4days</td>\n",
       "      <td>0.123647</td>\n",
       "      <td>0.560976</td>\n",
       "      <td>0.184000</td>\n",
       "      <td>0.919192</td>\n",
       "      <td>0.850650</td>\n",
       "    </tr>\n",
       "    <tr>\n",
       "      <th>4</th>\n",
       "      <td>X5days</td>\n",
       "      <td>0.012308</td>\n",
       "      <td>0.614583</td>\n",
       "      <td>0.227799</td>\n",
       "      <td>0.920202</td>\n",
       "      <td>0.859005</td>\n",
       "    </tr>\n",
       "    <tr>\n",
       "      <th>5</th>\n",
       "      <td>X6days</td>\n",
       "      <td>0.020447</td>\n",
       "      <td>0.613208</td>\n",
       "      <td>0.270270</td>\n",
       "      <td>0.927104</td>\n",
       "      <td>0.872503</td>\n",
       "    </tr>\n",
       "    <tr>\n",
       "      <th>6</th>\n",
       "      <td>X7days</td>\n",
       "      <td>0.093744</td>\n",
       "      <td>0.676617</td>\n",
       "      <td>0.276423</td>\n",
       "      <td>0.929125</td>\n",
       "      <td>0.878134</td>\n",
       "    </tr>\n",
       "  </tbody>\n",
       "</table>\n",
       "</div>"
      ],
      "text/plain": [
       "    names    coef_C  precision    recall  accuracy_test_set   ROC_AUC\n",
       "0  X1days  0.051454   0.547170  0.056530           0.914478  0.814089\n",
       "1  X2days  0.010000   0.495935  0.124236           0.917172  0.826936\n",
       "2  X3days  0.155734   0.496689  0.163399           0.922559  0.845188\n",
       "3  X4days  0.123647   0.560976  0.184000           0.919192  0.850650\n",
       "4  X5days  0.012308   0.614583  0.227799           0.920202  0.859005\n",
       "5  X6days  0.020447   0.613208  0.270270           0.927104  0.872503\n",
       "6  X7days  0.093744   0.676617  0.276423           0.929125  0.878134"
      ]
     },
     "execution_count": 356,
     "metadata": {},
     "output_type": "execute_result"
    }
   ],
   "source": [
    "results_logreg"
   ]
  },
  {
   "cell_type": "code",
   "execution_count": null,
   "id": "2e82ffd1",
   "metadata": {},
   "outputs": [],
   "source": []
  },
  {
   "cell_type": "markdown",
   "id": "4306c266",
   "metadata": {},
   "source": [
    "## DecisionTreeClassifier"
   ]
  },
  {
   "cell_type": "code",
   "execution_count": 357,
   "id": "b7bef723",
   "metadata": {},
   "outputs": [],
   "source": [
    "results_dt = pd.DataFrame()\n",
    "\n",
    "results_dt[\"names\"] = [f'X{i}days' for i in range(1, 8)]\n",
    "results_dt[\"precision\"] = np.zeros(results_dt.shape[0])\n",
    "results_dt[\"recall\"] = np.zeros(results_dt.shape[0])\n",
    "results_dt[\"accuracy_test_set\"] = np.zeros(results_dt.shape[0])\n",
    "results_dt[\"ROC_AUC\"] = np.zeros(results_dt.shape[0])"
   ]
  },
  {
   "cell_type": "code",
   "execution_count": 358,
   "id": "4e7e2ffc",
   "metadata": {},
   "outputs": [],
   "source": [
    "count_dt = 0"
   ]
  },
  {
   "cell_type": "code",
   "execution_count": 359,
   "id": "e5572f29",
   "metadata": {},
   "outputs": [],
   "source": [
    "def decision_tree_classifier(X, y):\n",
    "    \n",
    "    global count_dt\n",
    "        \n",
    "    X_train, X_test, y_train, y_test = train_test_split(X, y, test_size=0.33, random_state=17)\n",
    "    \n",
    "    skf = StratifiedKFold(n_splits=5, shuffle=True, random_state=17)\n",
    "    clf = tree.DecisionTreeClassifier()\n",
    "    \n",
    "    parametrs = {'max_depth': range(1, 31, 5),\n",
    "          'min_samples_leaf': range(1, 51, 5),\n",
    "          'min_samples_split': range(2, 71, 5)   \n",
    "    }\n",
    "    \n",
    "    tree_grid = GridSearchCV(clf, parametrs, cv=skf)\n",
    "    tree_grid.fit(X_train, y_train)\n",
    "    \n",
    "    best_parametrs = tree_grid.best_params_\n",
    "    \n",
    "    best_clf = tree_grid.best_estimator_\n",
    "    \n",
    "    results_dt.loc[count_dt, 'accuracy_test_set'] = best_clf.score(X_test, y_test)\n",
    "        \n",
    "    y_pred = best_clf.predict(X_test)\n",
    "    \n",
    "    precision = precision_score(y_test, y_pred)\n",
    "    results_dt.loc[count_dt, 'precision'] = precision\n",
    "    \n",
    "    recall = recall_score(y_test, y_pred)\n",
    "    results_dt.loc[count_dt, 'recall'] = recall\n",
    "    \n",
    "    ROC_AUC = metrics.roc_auc_score(y_test, best_clf.predict_proba(X_test)[:, 1])\n",
    "    results_dt.loc[count_dt, 'ROC_AUC'] = best_clf.score(X_test, y_test)\n",
    "    \n",
    "    feature_importances = best_clf.feature_importances_\n",
    "    feature_importances_df = pd.DataFrame({\"features\": list(X), \n",
    "                                       \"feature_importances\": feature_importances})\n",
    "    feature_importances_df = feature_importances_df.sort_values(\"feature_importances\", ascending=False)\n",
    "\n",
    "    count_dt += 1\n",
    "    \n",
    "    print(best_parametrs)\n",
    "    print(feature_importances_df[:3])\n",
    "    "
   ]
  },
  {
   "cell_type": "markdown",
   "id": "eeb11c6e",
   "metadata": {},
   "source": [
    "### the best tree parameters and the 3 most important features"
   ]
  },
  {
   "cell_type": "code",
   "execution_count": 360,
   "id": "f24da0ec",
   "metadata": {},
   "outputs": [
    {
     "name": "stdout",
     "output_type": "stream",
     "text": [
      "{'max_depth': 1, 'min_samples_leaf': 1, 'min_samples_split': 2}\n",
      "      features  feature_importances\n",
      "2      correct                  1.0\n",
      "0          day                  0.0\n",
      "1  total_steps                  0.0\n",
      "{'max_depth': 6, 'min_samples_leaf': 26, 'min_samples_split': 2}\n",
      "                features  feature_importances\n",
      "1            total_steps             0.780157\n",
      "4  correct_response_rate             0.110316\n",
      "5                 viewed             0.041635\n",
      "{'max_depth': 6, 'min_samples_leaf': 21, 'min_samples_split': 2}\n",
      "                features  feature_importances\n",
      "1            total_steps             0.820680\n",
      "5                 viewed             0.070490\n",
      "4  correct_response_rate             0.043678\n",
      "{'max_depth': 6, 'min_samples_leaf': 1, 'min_samples_split': 37}\n",
      "      features  feature_importances\n",
      "1  total_steps             0.648301\n",
      "2      correct             0.122003\n",
      "0          day             0.103794\n",
      "{'max_depth': 6, 'min_samples_leaf': 31, 'min_samples_split': 2}\n",
      "      features  feature_importances\n",
      "1  total_steps             0.705138\n",
      "2      correct             0.105151\n",
      "0          day             0.071359\n",
      "{'max_depth': 6, 'min_samples_leaf': 11, 'min_samples_split': 42}\n",
      "      features  feature_importances\n",
      "2      correct             0.655168\n",
      "1  total_steps             0.154863\n",
      "0          day             0.070638\n",
      "{'max_depth': 11, 'min_samples_leaf': 46, 'min_samples_split': 2}\n",
      "      features  feature_importances\n",
      "2      correct             0.791780\n",
      "1  total_steps             0.070533\n",
      "5       viewed             0.064599\n",
      "CPU times: total: 3min 27s\n",
      "Wall time: 3min 29s\n"
     ]
    }
   ],
   "source": [
    "%%time\n",
    "for i in range(1, 8):\n",
    "    decision_tree_classifier(datasets[f'X{i}days'], responses[f'y{i}days'])"
   ]
  },
  {
   "cell_type": "markdown",
   "id": "1d80c171",
   "metadata": {},
   "source": [
    "### results of predicting user churn after the first 1 to 7 days on the course using decision tree classifier"
   ]
  },
  {
   "cell_type": "code",
   "execution_count": 361,
   "id": "1e20cd93",
   "metadata": {},
   "outputs": [
    {
     "data": {
      "text/html": [
       "<div>\n",
       "<style scoped>\n",
       "    .dataframe tbody tr th:only-of-type {\n",
       "        vertical-align: middle;\n",
       "    }\n",
       "\n",
       "    .dataframe tbody tr th {\n",
       "        vertical-align: top;\n",
       "    }\n",
       "\n",
       "    .dataframe thead th {\n",
       "        text-align: right;\n",
       "    }\n",
       "</style>\n",
       "<table border=\"1\" class=\"dataframe\">\n",
       "  <thead>\n",
       "    <tr style=\"text-align: right;\">\n",
       "      <th></th>\n",
       "      <th>names</th>\n",
       "      <th>precision</th>\n",
       "      <th>recall</th>\n",
       "      <th>accuracy_test_set</th>\n",
       "      <th>ROC_AUC</th>\n",
       "    </tr>\n",
       "  </thead>\n",
       "  <tbody>\n",
       "    <tr>\n",
       "      <th>0</th>\n",
       "      <td>X1days</td>\n",
       "      <td>0.000000</td>\n",
       "      <td>0.000000</td>\n",
       "      <td>0.913636</td>\n",
       "      <td>0.913636</td>\n",
       "    </tr>\n",
       "    <tr>\n",
       "      <th>1</th>\n",
       "      <td>X2days</td>\n",
       "      <td>0.510204</td>\n",
       "      <td>0.050916</td>\n",
       "      <td>0.917508</td>\n",
       "      <td>0.917508</td>\n",
       "    </tr>\n",
       "    <tr>\n",
       "      <th>2</th>\n",
       "      <td>X3days</td>\n",
       "      <td>0.490683</td>\n",
       "      <td>0.172113</td>\n",
       "      <td>0.922222</td>\n",
       "      <td>0.922222</td>\n",
       "    </tr>\n",
       "    <tr>\n",
       "      <th>3</th>\n",
       "      <td>X4days</td>\n",
       "      <td>0.506757</td>\n",
       "      <td>0.150000</td>\n",
       "      <td>0.916162</td>\n",
       "      <td>0.916162</td>\n",
       "    </tr>\n",
       "    <tr>\n",
       "      <th>4</th>\n",
       "      <td>X5days</td>\n",
       "      <td>0.590909</td>\n",
       "      <td>0.225869</td>\n",
       "      <td>0.918855</td>\n",
       "      <td>0.918855</td>\n",
       "    </tr>\n",
       "    <tr>\n",
       "      <th>5</th>\n",
       "      <td>X6days</td>\n",
       "      <td>0.549356</td>\n",
       "      <td>0.266112</td>\n",
       "      <td>0.922896</td>\n",
       "      <td>0.922896</td>\n",
       "    </tr>\n",
       "    <tr>\n",
       "      <th>6</th>\n",
       "      <td>X7days</td>\n",
       "      <td>0.647059</td>\n",
       "      <td>0.313008</td>\n",
       "      <td>0.928956</td>\n",
       "      <td>0.928956</td>\n",
       "    </tr>\n",
       "  </tbody>\n",
       "</table>\n",
       "</div>"
      ],
      "text/plain": [
       "    names  precision    recall  accuracy_test_set   ROC_AUC\n",
       "0  X1days   0.000000  0.000000           0.913636  0.913636\n",
       "1  X2days   0.510204  0.050916           0.917508  0.917508\n",
       "2  X3days   0.490683  0.172113           0.922222  0.922222\n",
       "3  X4days   0.506757  0.150000           0.916162  0.916162\n",
       "4  X5days   0.590909  0.225869           0.918855  0.918855\n",
       "5  X6days   0.549356  0.266112           0.922896  0.922896\n",
       "6  X7days   0.647059  0.313008           0.928956  0.928956"
      ]
     },
     "execution_count": 361,
     "metadata": {},
     "output_type": "execute_result"
    }
   ],
   "source": [
    "results_dt"
   ]
  },
  {
   "cell_type": "code",
   "execution_count": null,
   "id": "84e6003c",
   "metadata": {},
   "outputs": [],
   "source": []
  },
  {
   "cell_type": "code",
   "execution_count": null,
   "id": "60886406",
   "metadata": {},
   "outputs": [],
   "source": []
  },
  {
   "cell_type": "markdown",
   "id": "834be7ec",
   "metadata": {},
   "source": [
    "## RandomForestClassifier"
   ]
  },
  {
   "cell_type": "code",
   "execution_count": 362,
   "id": "b0591a81",
   "metadata": {},
   "outputs": [],
   "source": [
    "results_rf = pd.DataFrame()\n",
    "\n",
    "results_rf[\"names\"] = [f'X{i}days' for i in range(1, 8)]\n",
    "results_rf[\"precision\"] = np.zeros(results_rf.shape[0])\n",
    "results_rf[\"recall\"] = np.zeros(results_rf.shape[0])\n",
    "results_rf[\"accuracy_test_set\"] = np.zeros(results_rf.shape[0])\n",
    "results_rf[\"ROC_AUC\"] = np.zeros(results_rf.shape[0])"
   ]
  },
  {
   "cell_type": "code",
   "execution_count": 363,
   "id": "29fdfeb8",
   "metadata": {},
   "outputs": [],
   "source": [
    "count_rf = 0"
   ]
  },
  {
   "cell_type": "code",
   "execution_count": 364,
   "id": "bc4845f4",
   "metadata": {},
   "outputs": [],
   "source": [
    "def random_forest_classifier(X, y):\n",
    "        \n",
    "    global count_rf\n",
    "            \n",
    "    X_train, X_test, y_train, y_test = train_test_split(X, y, test_size=0.33, random_state=17)\n",
    "    \n",
    "    skf = StratifiedKFold(n_splits=5, shuffle=True, random_state=17)\n",
    "    clf = RandomForestClassifier()\n",
    "    \n",
    "    parametrs = {'n_estimators':range(10, 200), \n",
    "                'max_depth': range(1, 31), \n",
    "                'min_samples_leaf': range(1, 51), \n",
    "                'min_samples_split': range(2, 51)   \n",
    "                }\n",
    "    \n",
    "    grid = RandomizedSearchCV(clf, parametrs, cv=skf, n_jobs=-1)\n",
    "    grid.fit(X_train, y_train)\n",
    "    \n",
    "    best_parametrs = grid.best_params_\n",
    "    \n",
    "    best_clf = grid.best_estimator_\n",
    "    \n",
    "    results_rf.loc[count_rf, 'accuracy_test_set'] = best_clf.score(X_test, y_test)\n",
    "        \n",
    "    y_pred = best_clf.predict(X_test)\n",
    "    \n",
    "    precision = precision_score(y_test, y_pred)\n",
    "    results_rf.loc[count_rf, 'precision'] = precision\n",
    "    \n",
    "    recall = recall_score(y_test, y_pred)\n",
    "    results_rf.loc[count_rf, 'recall'] = recall\n",
    "    \n",
    "    ROC_AUC = metrics.roc_auc_score(y_test, best_clf.predict_proba(X_test)[:, 1])\n",
    "    results_rf.loc[count_rf, 'ROC_AUC'] = best_clf.score(X_test, y_test)\n",
    "    \n",
    "    feature_importances = best_clf.feature_importances_\n",
    "    feature_importances_df = pd.DataFrame({\"features\": list(X), \n",
    "                                       \"feature_importances\": feature_importances})\n",
    "    feature_importances_df = feature_importances_df.sort_values(\"feature_importances\", ascending=False)\n",
    "    \n",
    "    count_rf += 1\n",
    "    \n",
    "    print(best_parametrs)\n",
    "    print(feature_importances_df[:3])"
   ]
  },
  {
   "cell_type": "markdown",
   "id": "eb26d3b5",
   "metadata": {},
   "source": [
    "### the best tree parameters and the 3 most important features"
   ]
  },
  {
   "cell_type": "code",
   "execution_count": 365,
   "id": "e5734485",
   "metadata": {},
   "outputs": [
    {
     "name": "stdout",
     "output_type": "stream",
     "text": [
      "{'n_estimators': 95, 'min_samples_split': 26, 'min_samples_leaf': 23, 'max_depth': 19}\n",
      "      features  feature_importances\n",
      "2      correct             0.328682\n",
      "1  total_steps             0.216020\n",
      "5       viewed             0.198422\n",
      "{'n_estimators': 121, 'min_samples_split': 20, 'min_samples_leaf': 50, 'max_depth': 28}\n",
      "      features  feature_importances\n",
      "1  total_steps             0.335521\n",
      "2      correct             0.293423\n",
      "5       viewed             0.155837\n",
      "{'n_estimators': 162, 'min_samples_split': 17, 'min_samples_leaf': 9, 'max_depth': 24}\n",
      "      features  feature_importances\n",
      "1  total_steps             0.258822\n",
      "5       viewed             0.237189\n",
      "2      correct             0.218740\n",
      "{'n_estimators': 23, 'min_samples_split': 31, 'min_samples_leaf': 15, 'max_depth': 17}\n",
      "      features  feature_importances\n",
      "2      correct             0.321020\n",
      "1  total_steps             0.237974\n",
      "0          day             0.154504\n",
      "{'n_estimators': 140, 'min_samples_split': 37, 'min_samples_leaf': 7, 'max_depth': 29}\n",
      "      features  feature_importances\n",
      "2      correct             0.268443\n",
      "1  total_steps             0.240587\n",
      "5       viewed             0.204591\n",
      "{'n_estimators': 156, 'min_samples_split': 8, 'min_samples_leaf': 27, 'max_depth': 16}\n",
      "      features  feature_importances\n",
      "2      correct             0.291912\n",
      "1  total_steps             0.273097\n",
      "5       viewed             0.177042\n",
      "{'n_estimators': 151, 'min_samples_split': 2, 'min_samples_leaf': 48, 'max_depth': 22}\n",
      "      features  feature_importances\n",
      "2      correct             0.323928\n",
      "1  total_steps             0.273246\n",
      "5       viewed             0.191758\n",
      "CPU times: total: 4.77 s\n",
      "Wall time: 21.7 s\n"
     ]
    }
   ],
   "source": [
    "%%time\n",
    "for i in range(1, 8):\n",
    "    random_forest_classifier(datasets[f'X{i}days'], responses[f'y{i}days'])"
   ]
  },
  {
   "cell_type": "markdown",
   "id": "90aac06f",
   "metadata": {},
   "source": [
    "### results of predicting user churn after the first 1 to 7 days on the course using random forest classifier"
   ]
  },
  {
   "cell_type": "code",
   "execution_count": 366,
   "id": "9f70d677",
   "metadata": {},
   "outputs": [
    {
     "data": {
      "text/html": [
       "<div>\n",
       "<style scoped>\n",
       "    .dataframe tbody tr th:only-of-type {\n",
       "        vertical-align: middle;\n",
       "    }\n",
       "\n",
       "    .dataframe tbody tr th {\n",
       "        vertical-align: top;\n",
       "    }\n",
       "\n",
       "    .dataframe thead th {\n",
       "        text-align: right;\n",
       "    }\n",
       "</style>\n",
       "<table border=\"1\" class=\"dataframe\">\n",
       "  <thead>\n",
       "    <tr style=\"text-align: right;\">\n",
       "      <th></th>\n",
       "      <th>names</th>\n",
       "      <th>precision</th>\n",
       "      <th>recall</th>\n",
       "      <th>accuracy_test_set</th>\n",
       "      <th>ROC_AUC</th>\n",
       "    </tr>\n",
       "  </thead>\n",
       "  <tbody>\n",
       "    <tr>\n",
       "      <th>0</th>\n",
       "      <td>X1days</td>\n",
       "      <td>0.750000</td>\n",
       "      <td>0.011696</td>\n",
       "      <td>0.914310</td>\n",
       "      <td>0.914310</td>\n",
       "    </tr>\n",
       "    <tr>\n",
       "      <th>1</th>\n",
       "      <td>X2days</td>\n",
       "      <td>0.528302</td>\n",
       "      <td>0.057026</td>\n",
       "      <td>0.917845</td>\n",
       "      <td>0.917845</td>\n",
       "    </tr>\n",
       "    <tr>\n",
       "      <th>2</th>\n",
       "      <td>X3days</td>\n",
       "      <td>0.486842</td>\n",
       "      <td>0.161220</td>\n",
       "      <td>0.922054</td>\n",
       "      <td>0.922054</td>\n",
       "    </tr>\n",
       "    <tr>\n",
       "      <th>3</th>\n",
       "      <td>X4days</td>\n",
       "      <td>0.566434</td>\n",
       "      <td>0.162000</td>\n",
       "      <td>0.919024</td>\n",
       "      <td>0.919024</td>\n",
       "    </tr>\n",
       "    <tr>\n",
       "      <th>4</th>\n",
       "      <td>X5days</td>\n",
       "      <td>0.632530</td>\n",
       "      <td>0.202703</td>\n",
       "      <td>0.920202</td>\n",
       "      <td>0.920202</td>\n",
       "    </tr>\n",
       "    <tr>\n",
       "      <th>5</th>\n",
       "      <td>X6days</td>\n",
       "      <td>0.623529</td>\n",
       "      <td>0.220374</td>\n",
       "      <td>0.926094</td>\n",
       "      <td>0.926094</td>\n",
       "    </tr>\n",
       "    <tr>\n",
       "      <th>6</th>\n",
       "      <td>X7days</td>\n",
       "      <td>0.716867</td>\n",
       "      <td>0.241870</td>\n",
       "      <td>0.929293</td>\n",
       "      <td>0.929293</td>\n",
       "    </tr>\n",
       "  </tbody>\n",
       "</table>\n",
       "</div>"
      ],
      "text/plain": [
       "    names  precision    recall  accuracy_test_set   ROC_AUC\n",
       "0  X1days   0.750000  0.011696           0.914310  0.914310\n",
       "1  X2days   0.528302  0.057026           0.917845  0.917845\n",
       "2  X3days   0.486842  0.161220           0.922054  0.922054\n",
       "3  X4days   0.566434  0.162000           0.919024  0.919024\n",
       "4  X5days   0.632530  0.202703           0.920202  0.920202\n",
       "5  X6days   0.623529  0.220374           0.926094  0.926094\n",
       "6  X7days   0.716867  0.241870           0.929293  0.929293"
      ]
     },
     "execution_count": 366,
     "metadata": {},
     "output_type": "execute_result"
    }
   ],
   "source": [
    "results_rf"
   ]
  },
  {
   "cell_type": "code",
   "execution_count": null,
   "id": "15e24a20",
   "metadata": {},
   "outputs": [],
   "source": []
  },
  {
   "cell_type": "code",
   "execution_count": null,
   "id": "e16a5975",
   "metadata": {},
   "outputs": [],
   "source": []
  },
  {
   "cell_type": "code",
   "execution_count": null,
   "id": "6954b92d",
   "metadata": {},
   "outputs": [],
   "source": []
  }
 ],
 "metadata": {
  "kernelspec": {
   "display_name": "Python 3 (ipykernel)",
   "language": "python",
   "name": "python3"
  },
  "language_info": {
   "codemirror_mode": {
    "name": "ipython",
    "version": 3
   },
   "file_extension": ".py",
   "mimetype": "text/x-python",
   "name": "python",
   "nbconvert_exporter": "python",
   "pygments_lexer": "ipython3",
   "version": "3.9.12"
  },
  "latex_envs": {
   "LaTeX_envs_menu_present": true,
   "autoclose": false,
   "autocomplete": true,
   "bibliofile": "biblio.bib",
   "cite_by": "apalike",
   "current_citInitial": 1,
   "eqLabelWithNumbers": true,
   "eqNumInitial": 1,
   "hotkeys": {
    "equation": "Ctrl-E",
    "itemize": "Ctrl-I"
   },
   "labels_anchors": false,
   "latex_user_defs": false,
   "report_style_numbering": false,
   "user_envs_cfg": false
  }
 },
 "nbformat": 4,
 "nbformat_minor": 5
}
